{
 "cells": [
  {
   "cell_type": "code",
   "execution_count": null,
   "metadata": {},
   "outputs": [],
   "source": [
    "import websockets\n",
    "from wxasync import WxAsyncApp\n",
    "import os\n",
    "import asyncio\n",
    "from bfxapi import Client\n",
    "from bfxapi.utils.CustomLogger import CustomLogger\n",
    "from exchange.BFX import wsbfx\n",
    "from exchange.wx_gui import WalletFrame, WalletEvent\n",
    "from exchange.BFX.tickerdata import TickerData"
   ]
  },
  {
   "cell_type": "code",
   "execution_count": null,
   "metadata": {},
   "outputs": [],
   "source": [
    "api_key = os.getenv('BFX_KEY')\n",
    "api_secret = os.getenv('BFX_SECRET')\n",
    "log = CustomLogger('Jupyter', 'INFO')\n",
    "mySubscribed = {}\n",
    "myWallet = dict()\n",
    "tickerDict = dict()\n",
    "base_currency = 'USD'\n",
    "tickerDataFields = ['bid', 'bid_size', 'ask', 'ask_size', 'daily_change',\n",
    "                    'daily_change_freq', 'last_price', 'volume', 'high', 'low']"
   ]
  },
  {
   "cell_type": "code",
   "execution_count": null,
   "metadata": {},
   "outputs": [],
   "source": [
    "def bfxMonitor(bfx):\n",
    "    @bfx.ws.on('wallet_snapshot')\n",
    "    async def log_snapshot(wallets):\n",
    "        for wallet in wallets:\n",
    "            if wallet.type == 'exchange' and wallet.currency not in ['SPK', 'USD']:  # No small balances\n",
    "                myWallet[wallet.currency] = wallet.balance\n",
    "                sym = 't' + wallet.currency + base_currency\n",
    "                await bfx.ws.subscribe('ticker', sym)\n",
    "            if wallet.type == ' exchange' and wallet.currency =='USD':\n",
    "                myWallet[wallet.currency] = wallet.balance\n",
    "\n",
    "    @bfx.ws.on('wallet_update')\n",
    "    async def log_update(wallet):\n",
    "        if wallet.currency not in myWallet.keys():\n",
    "            myWallet[wallet.currency] = wallet.balance\n",
    "            sym = 't' + wallet.currency + base_currency\n",
    "            await bfx.ws.subscribe('ticker', sym)\n",
    "#         log.info(\"Wallet updates: {}\".format(wallet))\n",
    "\n",
    "    @bfx.ws.on('subscribed')\n",
    "    def show_channel(sub):\n",
    "        coin = sub.symbol[1:4]\n",
    "        mySubscribed[sub.chan_id] = coin\n",
    "        log.info(f\"{coin} is subscribed  - id:- {sub.chan_id}\")\n",
    "        tickerDict[coin] = TickerData(symbol=sub.symbol, channel_name=sub.channel_name,\n",
    "                                      chan_id=sub.chan_id, sub_id=sub.sub_id,\n",
    "                                      balance=myWallet[coin])\n",
    "        log.info(f\"tickerDict: {tickerDict[coin]}\")\n",
    "        \n",
    "    @bfx.ws.on('unsubscribed')\n",
    "    async def log_unsubscribe(sub):\n",
    "        log.info(f\"unsubscribed: {sub}\")\n",
    "        del(tickerDict[sub.symbol[1:4]])\n",
    "        \n",
    "        \n",
    "    @bfx.ws.on('error')\n",
    "    async def log_error(msg):\n",
    "        log.error(\"Error: {}\".format(msg))\n",
    "\n",
    "    @bfx.ws.on('balance_update')\n",
    "    async def log_balance(data):\n",
    "#         log.info('Balance update: {}'.format(data))\n",
    "        pass\n",
    "    \n",
    "    @bfx.ws.on('ticker_update')\n",
    "    async def log_ticker(tkdata):\n",
    "        symbol, tkupdate = tkdata\n",
    "        data = dict(zip(tickerDataFields, tkupdate))\n",
    "        tickerDict[symbol].update(**data)\n",
    "#         log.info(f\"MyWallet: {symbol} - ${tickerDict[symbol].wallet:2f}\")\n"
   ]
  },
  {
   "cell_type": "code",
   "execution_count": null,
   "metadata": {},
   "outputs": [],
   "source": [
    "async def main_async():\n",
    "    loop = asyncio.get_running_loop()\n",
    "    bfx = Client(API_KEY=api_key, API_SECRET=api_secret, loop=loop)\n",
    "\n",
    "    tasks = [\n",
    "        asyncio.ensure_future(bfx.ws.get_task_executable()),\n",
    "    ]\n",
    "    bfxMonitor(bfx)\n",
    "    await asyncio.wait(tasks)"
   ]
  },
  {
   "cell_type": "code",
   "execution_count": null,
   "metadata": {
    "scrolled": false
   },
   "outputs": [],
   "source": [
    "await main_async()"
   ]
  },
  {
   "cell_type": "code",
   "execution_count": null,
   "metadata": {},
   "outputs": [],
   "source": []
  },
  {
   "cell_type": "code",
   "execution_count": null,
   "metadata": {},
   "outputs": [],
   "source": []
  }
 ],
 "metadata": {
  "kernelspec": {
   "display_name": "Python 3",
   "language": "python",
   "name": "python3"
  },
  "language_info": {
   "codemirror_mode": {
    "name": "ipython",
    "version": 3
   },
   "file_extension": ".py",
   "mimetype": "text/x-python",
   "name": "python",
   "nbconvert_exporter": "python",
   "pygments_lexer": "ipython3",
   "version": "3.7.3"
  }
 },
 "nbformat": 4,
 "nbformat_minor": 2
}
