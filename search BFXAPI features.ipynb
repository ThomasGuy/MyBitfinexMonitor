{
 "cells": [
  {
   "cell_type": "code",
   "execution_count": 1,
   "metadata": {},
   "outputs": [],
   "source": [
    "import websockets\n",
    "from wxasync import WxAsyncApp\n",
    "import os\n",
    "import asyncio\n",
    "from bfxapi import Client\n",
    "from bfxapi.utils.CustomLogger import CustomLogger\n",
    "from exchange.BFX import wsbfx\n",
    "from exchange.wx_gui import WalletFrame, WalletEvent\n",
    "from exchange.BFX.tickerdata import TickerData"
   ]
  },
  {
   "cell_type": "code",
   "execution_count": 2,
   "metadata": {},
   "outputs": [],
   "source": [
    "api_key = os.getenv('BFX_KEY')\n",
    "api_secret = os.getenv('BFX_SECRET')\n",
    "log = CustomLogger('Jupyter', 'INFO')\n",
    "mySubscribed = {}\n",
    "myWallet = dict()\n",
    "tickerDict = dict()\n",
    "base_currency = 'USD'\n",
    "tickerDataFields = ['bid', 'bid_size', 'ask', 'ask_size', 'daily_change',\n",
    "                    'daily_change_freq', 'last_price', 'volume', 'high', 'low']"
   ]
  },
  {
   "cell_type": "code",
   "execution_count": 3,
   "metadata": {},
   "outputs": [],
   "source": [
    "def bfxMonitor(bfx):\n",
    "    @bfx.ws.on('wallet_snapshot')\n",
    "    async def log_snapshot(wallets):\n",
    "        for wallet in wallets:\n",
    "            if wallet.type == 'exchange' and wallet.currency not in ['SPK', 'USD']:  # No small balances\n",
    "                myWallet[wallet.currency] = wallet.balance\n",
    "                sym = 't' + wallet.currency + base_currency\n",
    "                await bfx.ws.subscribe('ticker', sym)\n",
    "            if wallet.type == ' exchange' and wallet.currency =='USD':\n",
    "                myWallet[wallet.currency] = wallet.balance\n",
    "\n",
    "    @bfx.ws.on('wallet_update')\n",
    "    async def log_update(wallet):\n",
    "        if wallet.currency not in myWallet.keys():\n",
    "            myWallet[wallet.currency] = wallet.balance\n",
    "            sym = 't' + wallet.currency + base_currency\n",
    "            await bfx.ws.subscribe('ticker', sym)\n",
    "#         log.info(\"Wallet updates: {}\".format(wallet))\n",
    "\n",
    "    @bfx.ws.on('subscribed')\n",
    "    def show_channel(sub):\n",
    "        coin = sub.symbol[1:4]\n",
    "        mySubscribed[sub.chan_id] = coin\n",
    "        log.info(f\"{coin} is subscribed  - id:- {sub.chan_id}\")\n",
    "        tickerDict[coin] = TickerData(symbol=sub.symbol, channel_name=sub.channel_name,\n",
    "                                      chan_id=sub.chan_id, sub_id=sub.sub_id,\n",
    "                                      balance=myWallet[coin])\n",
    "        log.info(f\"tickerDict: {tickerDict[coin]}\")\n",
    "        \n",
    "    @bfx.ws.on('unsubscribed')\n",
    "    async def log_unsubscribe(sub):\n",
    "        log.info(f\"unsubscribed: {sub}\")\n",
    "        del(tickerDict[sub.symbol[1:4]])\n",
    "        \n",
    "        \n",
    "    @bfx.ws.on('error')\n",
    "    async def log_error(msg):\n",
    "        log.error(\"Error: {}\".format(msg))\n",
    "\n",
    "    @bfx.ws.on('balance_update')\n",
    "    async def log_balance(data):\n",
    "#         log.info('Balance update: {}'.format(data))\n",
    "        pass\n",
    "    \n",
    "    @bfx.ws.on('ticker_update')\n",
    "    async def log_ticker(tkdata):\n",
    "        symbol, tkupdate = tkdata\n",
    "        data = dict(zip(tickerDataFields, tkupdate))\n",
    "        tickerDict[symbol].update(**data)\n",
    "#         log.info(f\"MyWallet: {symbol} - ${tickerDict[symbol].wallet:2f}\")\n"
   ]
  },
  {
   "cell_type": "code",
   "execution_count": 4,
   "metadata": {},
   "outputs": [],
   "source": [
    "async def main_async():\n",
    "    loop = asyncio.get_running_loop()\n",
    "    bfx = Client(API_KEY=api_key, API_SECRET=api_secret, loop=loop)\n",
    "\n",
    "    tasks = [\n",
    "        asyncio.ensure_future(bfx.ws.get_task_executable()),\n",
    "    ]\n",
    "    bfxMonitor(bfx)\n",
    "    await asyncio.wait(tasks)"
   ]
  },
  {
   "cell_type": "code",
   "execution_count": 5,
   "metadata": {
    "scrolled": false
   },
   "outputs": [
    {
     "name": "stderr",
     "output_type": "stream",
     "text": [
      "[\u001b[1m\u001b[90mBfxWebsocket\u001b[0m\u001b[0m] [\u001b[94mINFO\u001b[0m] Wesocket connected to wss://api-pub.bitfinex.com/ws/2\n",
      "[\u001b[1m\u001b[90mBfxWebsocket\u001b[0m\u001b[0m] [\u001b[94mINFO\u001b[0m] {'event': 'info', 'version': 2, 'serverId': '0327bbca-4721-45d4-b6f7-c7115e1fca1c', 'platform': {'status': 1}}\n",
      "[\u001b[1m\u001b[90mBfxWebsocket\u001b[0m\u001b[0m] [\u001b[94mINFO\u001b[0m] Websocket opened.\n",
      "[\u001b[1m\u001b[90mBfxWebsocket\u001b[0m\u001b[0m] [\u001b[94mINFO\u001b[0m] Authentication successful.\n",
      "[\u001b[1m\u001b[90mBfxWebsocket\u001b[0m\u001b[0m] [\u001b[94mINFO\u001b[0m] Position snapshot: [0, 'ps', []]\n",
      "[\u001b[1m\u001b[90mBfxSubscriptionManager\u001b[0m\u001b[0m] [\u001b[94mINFO\u001b[0m] Subscribing to channel ticker\n",
      "[\u001b[1m\u001b[90mBfxSubscriptionManager\u001b[0m\u001b[0m] [\u001b[94mINFO\u001b[0m] Subscribing to channel ticker\n",
      "[\u001b[1m\u001b[90mBfxSubscriptionManager\u001b[0m\u001b[0m] [\u001b[94mINFO\u001b[0m] Subscribing to channel ticker\n",
      "[\u001b[1m\u001b[90mBfxSubscriptionManager\u001b[0m\u001b[0m] [\u001b[94mINFO\u001b[0m] Subscribing to channel ticker\n",
      "[\u001b[1m\u001b[90mBfxWebsocket\u001b[0m\u001b[0m] [\u001b[94mINFO\u001b[0m] Funding offer snapshot: [0, 'fos', []]\n",
      "[\u001b[1m\u001b[90mBfxWebsocket\u001b[0m\u001b[0m] [\u001b[94mINFO\u001b[0m] Funding credit snapshot: [0, 'fcs', []]\n",
      "[\u001b[1m\u001b[90mBfxWebsocket\u001b[0m\u001b[0m] [\u001b[94mINFO\u001b[0m] Funding loan snapshot: [0, 'fls', []]\n",
      "[\u001b[1m\u001b[90mBfxWebsocket\u001b[0m\u001b[0m] [\u001b[94mINFO\u001b[0m] Wallet update: Wallet <'exchange_SPK' balance='1e-08' unsettled='0'>\n",
      "[\u001b[1m\u001b[90mBfxSubscriptionManager\u001b[0m\u001b[0m] [\u001b[94mINFO\u001b[0m] Subscribing to channel ticker\n",
      "[\u001b[1m\u001b[90mBfxWebsocket\u001b[0m\u001b[0m] [\u001b[94mINFO\u001b[0m] Wallet update: Wallet <'exchange_ETC' balance='80' unsettled='0'>\n",
      "[\u001b[1m\u001b[90mBfxWebsocket\u001b[0m\u001b[0m] [\u001b[94mINFO\u001b[0m] Wallet update: Wallet <'exchange_OMG' balance='389' unsettled='0'>\n",
      "[\u001b[1m\u001b[90mBfxWebsocket\u001b[0m\u001b[0m] [\u001b[94mINFO\u001b[0m] Wallet update: Wallet <'exchange_ZEC' balance='7.5' unsettled='0'>\n",
      "[\u001b[1m\u001b[90mBfxWebsocket\u001b[0m\u001b[0m] [\u001b[94mINFO\u001b[0m] Wallet update: Wallet <'exchange_USD' balance='1983.36556813' unsettled='0'>\n",
      "[\u001b[1m\u001b[90mBfxSubscriptionManager\u001b[0m\u001b[0m] [\u001b[94mINFO\u001b[0m] Subscribing to channel ticker\n",
      "[\u001b[1m\u001b[90mBfxWebsocket\u001b[0m\u001b[0m] [\u001b[94mINFO\u001b[0m] Wallet update: Wallet <'exchange_LTC' balance='6' unsettled='0'>\n",
      "[\u001b[1m\u001b[90mBfxWebsocket\u001b[0m\u001b[0m] [\u001b[94mINFO\u001b[0m] Balance update: [5034.587068130127, 5034.587068130127]\n",
      "[\u001b[1m\u001b[90mJupyter\u001b[0m\u001b[0m] [\u001b[94mINFO\u001b[0m] ETC is subscribed  - id:- 16800\n",
      "[\u001b[1m\u001b[90mJupyter\u001b[0m\u001b[0m] [\u001b[94mINFO\u001b[0m] tickerDict: TickerData(chan_id=16800, channel_name='ticker', symbol='tETCUSD', sub_id='1560718107688-910085', balance=80, bid=-0.01, bid_size=-0.01, ask=-0.01, ask_size=-0.01, daily_change=-0.01, daily_change_freq=-0.01, last_price=-0.01, volume=-0.01, high=-0.01, low=-0.01, daily_pcent=-0.01, wallet=0)\n",
      "[\u001b[1m\u001b[90mJupyter\u001b[0m\u001b[0m] [\u001b[94mINFO\u001b[0m] OMG is subscribed  - id:- 16801\n",
      "[\u001b[1m\u001b[90mJupyter\u001b[0m\u001b[0m] [\u001b[94mINFO\u001b[0m] tickerDict: TickerData(chan_id=16801, channel_name='ticker', symbol='tOMGUSD', sub_id='1560718107689-9226180', balance=389, bid=-0.01, bid_size=-0.01, ask=-0.01, ask_size=-0.01, daily_change=-0.01, daily_change_freq=-0.01, last_price=-0.01, volume=-0.01, high=-0.01, low=-0.01, daily_pcent=-0.01, wallet=0)\n",
      "[\u001b[1m\u001b[90mJupyter\u001b[0m\u001b[0m] [\u001b[94mINFO\u001b[0m] ZEC is subscribed  - id:- 16802\n",
      "[\u001b[1m\u001b[90mJupyter\u001b[0m\u001b[0m] [\u001b[94mINFO\u001b[0m] tickerDict: TickerData(chan_id=16802, channel_name='ticker', symbol='tZECUSD', sub_id='1560718107689-2361977', balance=7.5, bid=-0.01, bid_size=-0.01, ask=-0.01, ask_size=-0.01, daily_change=-0.01, daily_change_freq=-0.01, last_price=-0.01, volume=-0.01, high=-0.01, low=-0.01, daily_pcent=-0.01, wallet=0)\n",
      "[\u001b[1m\u001b[90mJupyter\u001b[0m\u001b[0m] [\u001b[94mINFO\u001b[0m] LTC is subscribed  - id:- 16803\n",
      "[\u001b[1m\u001b[90mJupyter\u001b[0m\u001b[0m] [\u001b[94mINFO\u001b[0m] tickerDict: TickerData(chan_id=16803, channel_name='ticker', symbol='tLTCUSD', sub_id='1560718107690-4690895', balance=6, bid=-0.01, bid_size=-0.01, ask=-0.01, ask_size=-0.01, daily_change=-0.01, daily_change_freq=-0.01, last_price=-0.01, volume=-0.01, high=-0.01, low=-0.01, daily_pcent=-0.01, wallet=0)\n",
      "[\u001b[1m\u001b[90mJupyter\u001b[0m\u001b[0m] [\u001b[94mINFO\u001b[0m] SPK is subscribed  - id:- 16804\n",
      "[\u001b[1m\u001b[90mJupyter\u001b[0m\u001b[0m] [\u001b[94mINFO\u001b[0m] tickerDict: TickerData(chan_id=16804, channel_name='ticker', symbol='tSPKUSD', sub_id='1560718107694-7899768', balance=1e-08, bid=-0.01, bid_size=-0.01, ask=-0.01, ask_size=-0.01, daily_change=-0.01, daily_change_freq=-0.01, last_price=-0.01, volume=-0.01, high=-0.01, low=-0.01, daily_pcent=-0.01, wallet=0)\n",
      "[\u001b[1m\u001b[90mJupyter\u001b[0m\u001b[0m] [\u001b[91mERROR\u001b[0m] Error: Subscription Failed (generic) - symbol: invalid\n",
      "[\u001b[1m\u001b[90mBfxWebsocket\u001b[0m\u001b[0m] [\u001b[94mINFO\u001b[0m] Balance update: [5035.542268130127, 5035.542268130127]\n",
      "[\u001b[1m\u001b[90mBfxWebsocket\u001b[0m\u001b[0m] [\u001b[94mINFO\u001b[0m] Balance update: [5034.638768130127, 5034.638768130127]\n"
     ]
    },
    {
     "ename": "CancelledError",
     "evalue": "",
     "output_type": "error",
     "traceback": [
      "\u001b[1;31m---------------------------------------------------------------------------\u001b[0m",
      "\u001b[1;31mCancelledError\u001b[0m                            Traceback (most recent call last)",
      "\u001b[1;32m<ipython-input-5-22ed0e681be9>\u001b[0m in \u001b[0;36masync-def-wrapper\u001b[1;34m()\u001b[0m\n",
      "\u001b[1;32m<ipython-input-4-a0da0a921944>\u001b[0m in \u001b[0;36mmain_async\u001b[1;34m()\u001b[0m\n\u001b[0;32m      7\u001b[0m     ]\n\u001b[0;32m      8\u001b[0m     \u001b[0mbfxMonitor\u001b[0m\u001b[1;33m(\u001b[0m\u001b[0mbfx\u001b[0m\u001b[1;33m)\u001b[0m\u001b[1;33m\u001b[0m\u001b[1;33m\u001b[0m\u001b[0m\n\u001b[1;32m----> 9\u001b[1;33m     \u001b[1;32mawait\u001b[0m \u001b[0masyncio\u001b[0m\u001b[1;33m.\u001b[0m\u001b[0mwait\u001b[0m\u001b[1;33m(\u001b[0m\u001b[0mtasks\u001b[0m\u001b[1;33m)\u001b[0m\u001b[1;33m\u001b[0m\u001b[1;33m\u001b[0m\u001b[0m\n\u001b[0m",
      "\u001b[1;32m~\\Miniconda3\\envs\\bfx\\lib\\asyncio\\tasks.py\u001b[0m in \u001b[0;36mwait\u001b[1;34m(fs, loop, timeout, return_when)\u001b[0m\n\u001b[0;32m    361\u001b[0m     \u001b[0mfs\u001b[0m \u001b[1;33m=\u001b[0m \u001b[1;33m{\u001b[0m\u001b[0mensure_future\u001b[0m\u001b[1;33m(\u001b[0m\u001b[0mf\u001b[0m\u001b[1;33m,\u001b[0m \u001b[0mloop\u001b[0m\u001b[1;33m=\u001b[0m\u001b[0mloop\u001b[0m\u001b[1;33m)\u001b[0m \u001b[1;32mfor\u001b[0m \u001b[0mf\u001b[0m \u001b[1;32min\u001b[0m \u001b[0mset\u001b[0m\u001b[1;33m(\u001b[0m\u001b[0mfs\u001b[0m\u001b[1;33m)\u001b[0m\u001b[1;33m}\u001b[0m\u001b[1;33m\u001b[0m\u001b[1;33m\u001b[0m\u001b[0m\n\u001b[0;32m    362\u001b[0m \u001b[1;33m\u001b[0m\u001b[0m\n\u001b[1;32m--> 363\u001b[1;33m     \u001b[1;32mreturn\u001b[0m \u001b[1;32mawait\u001b[0m \u001b[0m_wait\u001b[0m\u001b[1;33m(\u001b[0m\u001b[0mfs\u001b[0m\u001b[1;33m,\u001b[0m \u001b[0mtimeout\u001b[0m\u001b[1;33m,\u001b[0m \u001b[0mreturn_when\u001b[0m\u001b[1;33m,\u001b[0m \u001b[0mloop\u001b[0m\u001b[1;33m)\u001b[0m\u001b[1;33m\u001b[0m\u001b[1;33m\u001b[0m\u001b[0m\n\u001b[0m\u001b[0;32m    364\u001b[0m \u001b[1;33m\u001b[0m\u001b[0m\n\u001b[0;32m    365\u001b[0m \u001b[1;33m\u001b[0m\u001b[0m\n",
      "\u001b[1;32m~\\Miniconda3\\envs\\bfx\\lib\\asyncio\\tasks.py\u001b[0m in \u001b[0;36m_wait\u001b[1;34m(fs, timeout, return_when, loop)\u001b[0m\n\u001b[0;32m    454\u001b[0m \u001b[1;33m\u001b[0m\u001b[0m\n\u001b[0;32m    455\u001b[0m     \u001b[1;32mtry\u001b[0m\u001b[1;33m:\u001b[0m\u001b[1;33m\u001b[0m\u001b[1;33m\u001b[0m\u001b[0m\n\u001b[1;32m--> 456\u001b[1;33m         \u001b[1;32mawait\u001b[0m \u001b[0mwaiter\u001b[0m\u001b[1;33m\u001b[0m\u001b[1;33m\u001b[0m\u001b[0m\n\u001b[0m\u001b[0;32m    457\u001b[0m     \u001b[1;32mfinally\u001b[0m\u001b[1;33m:\u001b[0m\u001b[1;33m\u001b[0m\u001b[1;33m\u001b[0m\u001b[0m\n\u001b[0;32m    458\u001b[0m         \u001b[1;32mif\u001b[0m \u001b[0mtimeout_handle\u001b[0m \u001b[1;32mis\u001b[0m \u001b[1;32mnot\u001b[0m \u001b[1;32mNone\u001b[0m\u001b[1;33m:\u001b[0m\u001b[1;33m\u001b[0m\u001b[1;33m\u001b[0m\u001b[0m\n",
      "\u001b[1;31mCancelledError\u001b[0m: "
     ]
    }
   ],
   "source": [
    "await main_async()"
   ]
  },
  {
   "cell_type": "code",
   "execution_count": null,
   "metadata": {},
   "outputs": [],
   "source": []
  },
  {
   "cell_type": "code",
   "execution_count": null,
   "metadata": {},
   "outputs": [],
   "source": []
  }
 ],
 "metadata": {
  "kernelspec": {
   "display_name": "Python 3",
   "language": "python",
   "name": "python3"
  },
  "language_info": {
   "codemirror_mode": {
    "name": "ipython",
    "version": 3
   },
   "file_extension": ".py",
   "mimetype": "text/x-python",
   "name": "python",
   "nbconvert_exporter": "python",
   "pygments_lexer": "ipython3",
   "version": "3.7.3"
  }
 },
 "nbformat": 4,
 "nbformat_minor": 2
}
